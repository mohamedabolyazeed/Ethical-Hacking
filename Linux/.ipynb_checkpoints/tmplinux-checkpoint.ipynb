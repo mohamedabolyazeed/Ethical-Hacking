{
 "cells": [
  {
   "cell_type": "markdown",
   "metadata": {},
   "source": []
  },
  {
   "cell_type": "markdown",
   "metadata": {},
   "source": []
  },
  {
   "cell_type": "markdown",
   "metadata": {},
   "source": []
  },
  {
   "cell_type": "markdown",
   "metadata": {
    "jp-MarkdownHeadingCollapsed": true,
    "tags": []
   },
   "source": [
    "# Introduction"
   ]
  },
  {
   "cell_type": "markdown",
   "metadata": {
    "jp-MarkdownHeadingCollapsed": true,
    "tags": []
   },
   "source": [
    "## History"
   ]
  },
  {
   "cell_type": "markdown",
   "metadata": {},
   "source": [
    "- 1950's computer evolution  \n",
    "- 1964 MIT, GE and Bell Labs developed MULTICS (Multiplexed Information Computing Service)  \n",
    "- Unics was developed at MIT (Bell Labs and GE) in the mid 60s and was published in 1970 \n",
    "- First written in Assembly language then was rewritten in C (Dennis Ritchie) in 1973  \n",
    "- In 1974 AT&T licensed UNIX for educational purposes  \n",
    "- In 1982 AT&T started selling UNIX (v7.0) and it was no longer free  \n",
    "- In 1983 Richard Stallman announced the GNU project  \n",
    "- In 1985 Stallman founded the Free Software Foundation  \n",
    "- In 1987 Andrew Tanenbaum developed MINIX based on UNIX 7 microkernel  \n",
    "- in 1991 Linus Torvalds released Linux Kernel as free software under GNU GPL  \n",
    "- GNU and Free Software Foundation added other free tools to the kernel   \n",
    "- The earliest distributions were Yggdrasil and Slackware  "
   ]
  },
  {
   "cell_type": "markdown",
   "metadata": {},
   "source": [
    "**[History of Linux](https://en.wikipedia.org/wiki/History_of_Linux)**"
   ]
  },
  {
   "cell_type": "markdown",
   "metadata": {
    "jp-MarkdownHeadingCollapsed": true,
    "tags": []
   },
   "source": [
    "## Installation"
   ]
  },
  {
   "cell_type": "markdown",
   "metadata": {},
   "source": [
    "**[Linux Distros](https://en.wikipedia.org/wiki/Linux_distribution)**  \n",
    "**[distrowatch.com](https://distrowatch.com/)**  "
   ]
  },
  {
   "cell_type": "markdown",
   "metadata": {},
   "source": [
    "**[Redhat Enterprise](https://developers.redhat.com/products/rhel/overview)**"
   ]
  },
  {
   "cell_type": "markdown",
   "metadata": {},
   "source": [
    "**[CentOS Linux](https://www.centos.org/download/)**"
   ]
  },
  {
   "cell_type": "markdown",
   "metadata": {},
   "source": [
    "**[Ubuntu](https://ubuntu.com/)**"
   ]
  },
  {
   "cell_type": "markdown",
   "metadata": {},
   "source": []
  },
  {
   "cell_type": "markdown",
   "metadata": {},
   "source": [
    "## Basic Commands"
   ]
  },
  {
   "cell_type": "markdown",
   "metadata": {},
   "source": [
    "`echo`    - display a line of text  \n",
    "`whoami`  - print effective userid  \n",
    "`ls`      - list directory contents  \n",
    "`cd`      - change the working directory  \n",
    "`pwd`     - print name of current/working directory  \n",
    "`mkdir`   - make directories  \n",
    "`touch`   - change file timestamps  \n",
    "`ip a`    - show / manipulate routing, devices, policy routing and tunnels  \n",
    "`cat`     - concatenate files and print on the standard output  \n",
    "`wc`      - counts words, lines, bytes, etc from text files  \n",
    "`history` - GNU History Library  "
   ]
  },
  {
   "cell_type": "markdown",
   "metadata": {},
   "source": [
    "**Where are these commands**  \n",
    "`$ type -a ls`  \n",
    "`$ type -a cd`  "
   ]
  },
  {
   "cell_type": "markdown",
   "metadata": {},
   "source": [
    "**[The Linux command line for beginners](https://ubuntu.com/tutorials/command-line-for-beginners#1-overview)**"
   ]
  },
  {
   "cell_type": "markdown",
   "metadata": {},
   "source": [
    "## Text Files"
   ]
  },
  {
   "cell_type": "markdown",
   "metadata": {},
   "source": [
    "**Using `nano` Editor**  "
   ]
  },
  {
   "cell_type": "markdown",
   "metadata": {},
   "source": [
    "**[nano Cheatsheet](https://www.nano-editor.org/dist/latest/cheatsheet.html)**"
   ]
  },
  {
   "cell_type": "markdown",
   "metadata": {},
   "source": [
    "- `nano <filename>` -- opens filename in editor  \n",
    "- `nano -v <filename>`  -- opens filename in view only mode  \n"
   ]
  },
  {
   "cell_type": "markdown",
   "metadata": {},
   "source": [
    "**[Nano](https://help.ubuntu.com/community/Nano)**"
   ]
  },
  {
   "cell_type": "markdown",
   "metadata": {
    "jp-MarkdownHeadingCollapsed": true,
    "tags": []
   },
   "source": [
    "# Working with the Linux Shell"
   ]
  },
  {
   "cell_type": "markdown",
   "metadata": {},
   "source": [
    "## Shell vs Terminal"
   ]
  },
  {
   "cell_type": "markdown",
   "metadata": {},
   "source": [
    "A `shell` is a program that functions as a user interface and command-line interpreter when using a command-line interface."
   ]
  },
  {
   "cell_type": "markdown",
   "metadata": {},
   "source": [
    "**Parent and Child Processes**"
   ]
  },
  {
   "cell_type": "markdown",
   "metadata": {},
   "source": [
   ]
  },
  {
   "cell_type": "markdown",
   "metadata": {},
   "source": [
    "- `$ ps`  -- shows currently running processes  \n",
    "- `$ sh`  -- opens a sh shell  \n",
    "- `$ ps`  -- shows currently running processes  \n",
    "- `$ bash`  -- opens a bash shell  \n",
    "- `$ ps`  -- shows currently running processes  \n",
    "- `$ exit` -- exits the current shell process  \n",
    "- `$ ps`  -- shows currently running processes  \n",
    "- etc"
   ]
  },
  {
   "cell_type": "markdown",
   "metadata": {},
   "source": [
    "## Managing Variables"
   ]
  },
  {
   "cell_type": "markdown",
   "metadata": {},
   "source": [
    "### Shell variables"
   ]
  },
  {
   "cell_type": "markdown",
   "metadata": {},
   "source": [
    "A shell variable only exists in the memory space of the shell in which it was created. This means that when a shell variable is created within a parent process, the variable is available in that process but **not** in any child process."
   ]
  },
  {
   "cell_type": "markdown",
   "metadata": {},
   "source": [
    "`$ <variable>=<value>`  -- Example $ var01=2304  -- No spaces  \n",
    "`$ var01=test`  \n",
    "`$ var02='this is a \\n multiline variable'`  \n",
    "`$ echo $var01`  \n",
    "`$ echo ${var01}`  -- another way to print the value  \n",
    "`$ echo $var02`  \n",
    "`$ echo -e $var02`"
   ]
  },
  {
   "cell_type": "markdown",
   "metadata": {},
   "source": [
    "`$ echo $PATH`   \n",
    "`$ echo PATH = $PATH` --  Append the output of string 'PATH =' with the value of the variable PATH"
   ]
  },
  {
   "cell_type": "markdown",
   "metadata": {},
   "source": [
    "`$ set`  -- show env vars  \n",
    "`$ env`  \n",
    "`$ export`"
   ]
  },
  {
   "cell_type": "markdown",
   "metadata": {},
   "source": []
  },
  {
   "cell_type": "markdown",
   "metadata": {},
   "source": [
    "### Environment Variables"
   ]
  },
  {
   "cell_type": "markdown",
   "metadata": {},
   "source": [
    "Unlike shell variables, environment variables are visible to child processes. For example, the EDITOR variable contains the name of the system editor."
   ]
  },
  {
   "cell_type": "markdown",
   "metadata": {},
   "source": [
    "**Setting Environment Variables**  \n",
    "`$ echo $MYVAR1`  -- empty for now  \n",
    "`$ MYVAR1=myvalue1` -- setting the value of a shell variable  \n",
    "`$ MYVAR2=myvalue2`  -- setting the value of another shell variable  \n",
    "`$ export MYVAR2`  -- making a shell variable an environment variable"
   ]
  },
  {
   "cell_type": "markdown",
   "metadata": {},
   "source": [
    "**Testing both shell and env variables**  \n",
    "`$ echo $MYVAR1` -- show myvalue1  \n",
    "`$ echo $MYVAR2` -- show myvalue2  \n",
    "`$ bash`  -- starting a subshell  \n",
    "`$ echo $MYVAR1` -- show nothing as MYVAR1 is a shell variable not visible from any subshell   \n",
    "`$ echo $MYVAR2` -- show myvalue2 as MYVAR2 is an environment variable visible from any subshell  \n"
   ]
  },
  {
   "cell_type": "markdown",
   "metadata": {},
   "source": [
    "### Important Environment Variables"
   ]
  },
  {
   "cell_type": "raw",
   "metadata": {},
   "source": [
    "+-----------------------+-------------------------------------------------+\n",
    "| Environment Variables | Description                                     |\n",
    "| ----------------------|-------------------------------------------------|\n",
    "| $USER                 | Gives search path for commands.                 |\n",
    "| $PATH                 | Gives search path for commands.                 |\n",
    "| $HOME                 | Gives path of home directory.                   |\n",
    "| $PWD                  | Gives the path of present working directory.    |\n",
    "| $HOSTNAME             | Gives name of the host.                         |\n",
    "| $LANG                 | Gives the default system language.              |\n",
    "| $EDITOR               | Gives default file editor.                      |\n",
    "| $UID                  | Gives user ID of current user.                  |\n",
    "| $SHELL                | Gives location of current user’s shell program. |\n",
    "+-----------------------+-------------------------------------------------+"
   ]
  },
  {
   "cell_type": "markdown",
   "metadata": {},
   "source": [
    "**Test some of them**  \n",
    "`$ echo $SHELL`  \n",
    "`$ cat $HOME/.bashrc`  "
   ]
  },
  {
   "cell_type": "markdown",
   "metadata": {},
   "source": [
    "**[Environment Variables](https://help.ubuntu.com/community/EnvironmentVariables)**"
   ]
  },
  {
   "cell_type": "markdown",
   "metadata": {},
   "source": [
    "## Login vs Non-Login Shell"
   ]
  },
  {
   "cell_type": "markdown",
   "metadata": {},
   "source": [
    "**A login shell is the shell used to authenticate the user**  \n",
    "When you login to a console linux (with no GUI) you will have to authenticate through the shell before you can start executing commands.  \n",
    "Using SSH is another example.  \n"
   ]
  },
  {
   "cell_type": "markdown",
   "metadata": {},
   "source": [
    "**A non-login shell is the shell a user invokes without a login process**  \n",
    "An example is when a user opens a terminal emulator after logging on to a linux desktop.  "
   ]
  },
  {
   "cell_type": "markdown",
   "metadata": {},
   "source": [
    "**Check the type of shell**  \n",
    "The name and the type of the shell are stored in an environment variable called 0  \n",
    "`echo $0`  \n",
    "OUTPUT: `-bash` -- the hyphen before the 'bash' means that this is a login shell.  \n",
    "OUTPUT: `bash` -- means that this is a non-login shell.  "
   ]
  },
  {
   "cell_type": "markdown",
   "metadata": {},
   "source": [
    "### Shell Startup Files"
   ]
  },
  {
   "cell_type": "markdown",
   "metadata": {},
   "source": [
    "There are many startup files you can use to prestage envrionment variables, config items, etc.  \n",
    "Two main examples are:  \n",
    "- `/etc/profile` -- used for login shells only   \n",
    "- `~/.bashrc` -- used for both login and non-login shells  "
   ]
  },
  {
   "cell_type": "markdown",
   "metadata": {},
   "source": [
    "**Examples of startup file usage**  \n",
    "- Edit the `/etc/profile` and add the following line at the end of the file:  \n",
    "`echo '*** Sourcing /etc/profile ***'`\n",
    "- Open a new terminal window  \n",
    "- Notice that the line was not shown, hence /etc/profile file was NOT sourced as this is a non-login shell  \n",
    "- run the following command `$ ssh sami@localhost` and provide your password  \n",
    "- Notice that now you can see the line '\\*** Sourcing /etc/profile \\***' which means that /etc/profile was sourced as this is a login shell  \n",
    "- To double check that this is a login shell run the command `$ echo $0` and validate the `-bash` output  "
   ]
  },
  {
   "cell_type": "markdown",
   "metadata": {},
   "source": [
    "- Now edit the `~/.bashrc` file and add the following line to the end of the file:  \n",
    "`echo '*** Sourcing $(HOME)/.bashrc ***'`  \n",
    "- Close the terminal window and open a new one.\n",
    "- Now you should be able to see both lines coming from `/etc/profile` and `~/.bashrc` files  "
   ]
  },
  {
   "cell_type": "markdown",
   "metadata": {},
   "source": []
  },
  {
   "cell_type": "markdown",
   "metadata": {},
   "source": [
    "### The `source` Command"
   ]
  },
  {
   "cell_type": "markdown",
   "metadata": {},
   "source": [
    "Used to execute the commands in the configuration files and load them to memory"
   ]
  },
  {
   "cell_type": "markdown",
   "metadata": {},
   "source": [
    "`$ . <filename>`  \n",
    "`$ source <filename>`"
   ]
  },
  {
   "cell_type": "markdown",
   "metadata": {},
   "source": [
    "## Redirection"
   ]
  },
  {
   "cell_type": "markdown",
   "metadata": {},
   "source": [
   ]
  },
  {
   "cell_type": "markdown",
   "metadata": {},
   "source": [
    "Redirection permits a user to alter from the defaults for stdin, stdout, or stderr to a device or file using their file descriptors"
   ]
  },
  {
   "cell_type": "markdown",
   "metadata": {},
   "source": [
    "### File Descriptor"
   ]
  },
  {
   "cell_type": "markdown",
   "metadata": {},
   "source": [
    "A file descriptor is a reference, or handle, used by the kernel to access a file. A file descriptor table is created for every process"
   ]
  },
  {
   "cell_type": "markdown",
   "metadata": {},
   "source": [
    "### Redirect stdin with `<`"
   ]
  },
  {
   "cell_type": "markdown",
   "metadata": {},
   "source": [
    "Use the `<` operator to redirect standard input"
   ]
  },
  {
   "cell_type": "markdown",
   "metadata": {},
   "source": [
    "`$ wc < <textfile>`"
   ]
  },
  {
   "cell_type": "markdown",
   "metadata": {},
   "source": [
    "### Using Heredocs with `<<`"
   ]
  },
  {
   "cell_type": "markdown",
   "metadata": {},
   "source": [
    "`$ cat << <someword>`  -- accepts input until <someword> is reached"
   ]
  },
  {
   "cell_type": "markdown",
   "metadata": {},
   "source": []
  },
  {
   "cell_type": "markdown",
   "metadata": {},
   "source": []
  },
  {
   "cell_type": "markdown",
   "metadata": {},
   "source": []
  },
  {
   "cell_type": "markdown",
   "metadata": {
    "jp-MarkdownHeadingCollapsed": true,
    "tags": []
   },
   "source": [
    "# File Management"
   ]
  },
  {
   "cell_type": "markdown",
   "metadata": {},
   "source": [
    "### Understanding the Filesystem Hierarchy Standard"
   ]
  },
  {
   "cell_type": "markdown",
   "metadata": {},
   "source": [
   ]
  },
  {
   "cell_type": "markdown",
   "metadata": {},
   "source": [
    "### Files, Filenames and Inodes"
   ]
  },
  {
   "cell_type": "markdown",
   "metadata": {},
   "source": [
    "Linus file = filename + inode + data block(s)  \n",
    "Linux OS uses inode number not filename  "
   ]
  },
  {
   "cell_type": "markdown",
   "metadata": {},
   "source": [
    "inode is an internal storage associated with each file containing the following info:  \n",
    "- Permissions\n",
    "- number of links  \n",
    "- user and group owner  \n",
    "- file size\n",
    "- timestamps\n",
    "- pointers to data blocks"
   ]
  },
  {
   "cell_type": "markdown",
   "metadata": {},
   "source": [
    "`$ ls -i`  -- use the `-i` to show the inode numbers  "
   ]
  },
  {
   "cell_type": "markdown",
   "metadata": {},
   "source": [
    "`$ stat <filename>` -- shows file status"
   ]
  },
  {
   "cell_type": "markdown",
   "metadata": {},
   "source": [
    "### Soft and Hard Links"
   ]
  },
  {
   "cell_type": "markdown",
   "metadata": {},
   "source": [
    "Links are references to files  "
   ]
  },
  {
   "cell_type": "markdown",
   "metadata": {},
   "source": [
    "**Hard Links**  \n",
    "- A hard link associates the file's name with the file's inode.  \n",
    "- Use the `ln` command to create additional hard links.  \n",
    "- Hard links work only within the same filesystem"
   ]
  },
  {
   "cell_type": "markdown",
   "metadata": {},
   "source": [
    "`ln <source_file> <destination_file>`"
   ]
  },
  {
   "cell_type": "markdown",
   "metadata": {},
   "source": [
    "`$ echo 0123456789 > original`  -- creates a file with some text  \n",
    "`$ ls -il or*`  -- will show the file details along with the inode number  \n",
    "`$ ln original orhlink`  -- creates a hard link called orhlink to original file  \n",
    "`$ ls -il or*`  -- will show both files details along with the inode numbers  \n",
    "`$ rm original`  -- this will remove the original hard link but the data blocks will remain"
   ]
  },
  {
   "cell_type": "markdown",
   "metadata": {},
   "source": [
    "**Soft Links**"
   ]
  },
  {
   "cell_type": "markdown",
   "metadata": {},
   "source": [
    "- A symblic/soft link can reference a file from anywhere including network\n",
    "- soft links have their own inode numbers\n"
   ]
  },
  {
   "cell_type": "markdown",
   "metadata": {},
   "source": [
    "`ln -s <source_file> <destination_file>`"
   ]
  },
  {
   "cell_type": "markdown",
   "metadata": {},
   "source": [
    "**Removing links**"
   ]
  },
  {
   "cell_type": "markdown",
   "metadata": {},
   "source": [
    "`unlink <sym/hardlink>`"
   ]
  },
  {
   "cell_type": "markdown",
   "metadata": {},
   "source": [
    "### Copying, moving and renaming files and directories"
   ]
  },
  {
   "cell_type": "markdown",
   "metadata": {},
   "source": [
    "`$ cp file1 file2` -- creates a copy of file1 into file2 in the same directory  \n",
    "`$ mv file1 /path/to/new/dir/file1`  -- moves file1 to a new directory keeping the same file name  \n",
    "`$ mv file1 file2`  -- renames file1 to file2  \n",
    "`$ mv dir1 dir2 dir3 /path/to/new/location`  -- moves 3 directories at once into a new location"
   ]
  },
  {
   "cell_type": "markdown",
   "metadata": {},
   "source": [
    "### Viewing File Contents"
   ]
  },
  {
   "cell_type": "markdown",
   "metadata": {},
   "source": [
    "- `cat` -- content in plain text \n",
    "- `less`  -- called a pager displaying one page at a time\n",
    "- `more` -- same as less\n",
    "- `head`  -- shows the first 10 lines\n",
    "- `tail`  -- last 10 lines\n"
   ]
  },
  {
   "cell_type": "markdown",
   "metadata": {},
   "source": [
    "### Deleting files and directories"
   ]
  },
  {
   "cell_type": "markdown",
   "metadata": {},
   "source": [
    "- `$ rm <filename>`\n",
    "- `$ rm -r <dirname>`"
   ]
  },
  {
   "cell_type": "markdown",
   "metadata": {},
   "source": [
    "### Finding files"
   ]
  },
  {
   "cell_type": "markdown",
   "metadata": {},
   "source": [
    "`find <start_directory> <expression>`"
   ]
  },
  {
   "cell_type": "markdown",
   "metadata": {},
   "source": [
    "`<expression>` -- be regex  \n",
    "`-name`  -- matches name of the file  \n",
    "`-size`  -- matches file size `b` blocks, `c` bytes, `w` words, `k` kilobytes, etc.  \n",
    "`-inum`  -- inode  \n",
    "`-user`  -- owner user  "
   ]
  },
  {
   "cell_type": "markdown",
   "metadata": {},
   "source": [
    "**Examples**  \n",
    "`$ find / -size +10M`  -- find all files in the filesystem that are larger than 10MB  \n",
    "`$ find /var/lib code[123]` -- find all files under /var/lib with the names code1, code2 or code3  "
   ]
  },
  {
   "cell_type": "markdown",
   "metadata": {},
   "source": []
  },
  {
   "cell_type": "markdown",
   "metadata": {},
   "source": []
  },
  {
   "cell_type": "markdown",
   "metadata": {},
   "source": []
  },
  {
   "cell_type": "markdown",
   "metadata": {},
   "source": []
  },
  {
   "cell_type": "markdown",
   "metadata": {
    "jp-MarkdownHeadingCollapsed": true,
    "tags": []
   },
   "source": [
    "# User Account Management"
   ]
  },
  {
   "cell_type": "markdown",
   "metadata": {},
   "source": [
    "## Attributes of a User Account"
   ]
  },
  {
   "cell_type": "markdown",
   "metadata": {},
   "source": [
    "- Each user account has a line in `/etc/passwd`  \n",
    "- User name\n",
    "- User password\n",
    "- User identification number (UID) -- unique to each user\n",
    "- Group identification number (GID) -- primary group\n",
    "- Comment or GECOS information -- optional \n",
    "- Home directory -- where the user will be when they log in\n",
    "- Login shell -- the program that will be run when the user logs in"
   ]
  },
  {
   "cell_type": "markdown",
   "metadata": {},
   "source": [
    "**Determine the Current User**  \n",
    "`$ who`  -- show who is logged on  \n",
    "`$ whoami` -- print effective user name  \n",
    "`$ id` -- print real name, username and group IDs"
   ]
  },
  {
   "cell_type": "markdown",
   "metadata": {},
   "source": [
    "## Startup Files"
   ]
  },
  {
   "cell_type": "markdown",
   "metadata": {},
   "source": [
    "Files that determine execution environment for shells (window or script)  \n",
    "* Environemt Variables\n",
    "* Aliases\n",
    "* Functions\n",
    "* Shell Options\n",
    "\n"
   ]
  },
  {
   "cell_type": "markdown",
   "metadata": {},
   "source": [
    "**Startup Files Order**  \n",
    "1. `/etc/profile`\n",
    "2. `~/.bash_profile` \n",
    "3. `~/.bash_login` \n",
    "4. `~/.profile`  \n",
    "5. `~/.bashrc`\n"
   ]
  },
  {
   "cell_type": "markdown",
   "metadata": {},
   "source": [
    "## Creating User Accounts with `useradd`"
   ]
  },
  {
   "cell_type": "markdown",
   "metadata": {},
   "source": [
    "`$ sudo useradd sayed`  \n",
    "The following will happen  \n",
    "- UID will be assigned to sayed\n",
    "- A group with the same name as the user will be created\n",
    "- GID will be assigned to sayed (will be same as UID)\n",
    "- Home directory will be created for sayed\n",
    "- Shell will be assigned to sayed (by default `/bin/bash`)\n",
    "- /etc/passwd will be updated\n",
    "\n",
    "The defaults can be overruled by using options to `useradd` as in:  \n",
    "`$ sudo useradd -u 1001 -g 1001 -d /home/sayed -s /bin/sh -p sayed_beh_eshta -c \"sayed kabaka\" sayed` "
   ]
  },
  {
   "cell_type": "markdown",
   "metadata": {},
   "source": [
    "## Modifying and Deleting User Accounts"
   ]
  },
  {
   "cell_type": "markdown",
   "metadata": {},
   "source": [
    "**Delete a user**  \n",
    "`$ sudo userdel <username>`  \n",
    "`$ sudo userdel sayed`  \n",
    "All references to the user 'sayed' are removed from the system except the home dir.\n",
    "`/etc/passwd`  \n",
    "`/etc/shadow`  \n",
    "`/etc/group`  \n",
    "`/etc/gshadow`  \n",
    "\n",
    "`$ sudo userdel -r sayed` -- '-r' will also delete the home dir.  \n",
    "\n"
   ]
  },
  {
   "cell_type": "markdown",
   "metadata": {},
   "source": [
    "**Modify a user account**  \n",
    "`$ sudo usermod <options> <username>`  \n",
    "`-a` -- add the user to the supplementary group(s)  \n",
    "`-G` -- a list of supplementary groups which the user is also a member of  \n",
    "`-l` -- new value of the login name  \n",
    "`-L` -- lock the user account  \n",
    "`-U` -- unlock the user account  \n",
    "`-d` -- new home directory for the user account  \n",
    "`-m` -- move the content of the user's home directory to the new location  \n",
    "`-s` -- new login shell for the user account  \n",
    "`-p` -- new encrypted password of the user account  \n",
    "`-c` -- new value of the user's password expiry date  \n",
    "\n",
    "\n",
    "`sudo usermod -p P@ssw0rd sayed`  -- change password of user sayed to P@ssw0rd"
   ]
  },
  {
   "cell_type": "markdown",
   "metadata": {},
   "source": [
    "**User Passwords**  \n",
    "To set the user password at creation time:  \n",
    "`useradd -m -p P@ssw0rd username`  \n",
    "\n",
    "To change the user password:  \n",
    "`sudo passwd username`  \n",
    "`sudo usermod -p P@ssw0rd username`  \n",
    "\n",
    "But there's a difference between both methods. The first one sets the password in the `/etc/shadow` file in clear text, while the second one sets the password in the `/etc/shadow` file as a hash."
   ]
  },
  {
   "cell_type": "markdown",
   "metadata": {},
   "source": [
    "**The `root` Account**  \n",
    "The `root` account is the superuser account. It has the highest level of access to the system. The `root` account is disabled by default in Ubuntu, but you can enable it by setting a password.  \n",
    "\n",
    "**The `sudo` Command**  \n",
    "The `sudo` command allows you to run programs with the security privileges of another user (by default, as the superuser). It prompts you for your personal password and confirms your request to execute a command by checking a file, called `sudoers`, which the system administrator configures.  \n",
    "\n",
    "**The `sudoers` File**  \n",
    "`/etc/sudoers` -- The `sudoers` file contains the rules that users must follow when using the `sudo` command.  \n",
    "\n",
    "**The `visudo` Command**  \n",
    "`visudo` -- The `visudo` command opens the `sudoers` file in a text editor.  \n",
    "\n",
    "**The `su` Command**  \n",
    "`su` -- The `su` command allows you to switch to another user account and creates a sub-shell.  \n"
   ]
  },
  {
   "cell_type": "markdown",
   "metadata": {},
   "source": [
    "## SSH"
   ]
  },
  {
   "cell_type": "markdown",
   "metadata": {},
   "source": [
    "**To connect to remote machine shells**  \n",
    "`ssh <username>@<ip-address>` -- Connect to remote machine  \n",
    "`ssh -l <username> <ip-address>` -- Connect to remote machine  \n",
    "`ssh <username>@<ip-address> -p <port-number>` -- Connect to remote machine on a specific port  \n",
    "`ssh <username>@<ip-address> -i <path-to-private-key>` -- Connect to remote machine using a private key  \n"
   ]
  },
  {
   "cell_type": "markdown",
   "metadata": {},
   "source": [
    "**Copy files to and from remote computers using SSH and SCP**  \n",
    "`scp -r user@remote_host:/path/to/remote/file /path/to/local/file`  -- copy file from remote host to local host\n",
    "`scp -r /path/to/local/file user@remote_host:/path/to/remote/file`  -- copy file from local host to remote host  \n"
   ]
  },
  {
   "cell_type": "markdown",
   "metadata": {},
   "source": [
    "**Single sign-on**  \n",
    "To configure passwordless login using SSH (Signle Sign-On) you will need to configure public ket cryptography files.  \n",
    "The files exist under the directory `.ssh` under each user's home directory.  \n",
    "The files are:  \n",
    "- `id_rsa`: the user's private key\n",
    "- `id_rsa.pub`: the user's public key\n",
    "- `authorized_keys`: public keys that are permitted to log in\n",
    "- `known_hosts`: hosts from which logins have been allowed in the past\n",
    "- `config`: file for specifying various options"
   ]
  },
  {
   "cell_type": "markdown",
   "metadata": {},
   "source": [
    "**Steps to remote ssh without password (i.e. using publib key cryptography)**  \n",
    "1- `$ ssh-keygen -t rsa`  -- generate pub/priv key pair  \n",
    "2- `$ ls -a`  -- examine the newly created files (id_rsa and id_rsa.pub)  \n",
    "3- `$ cat ~/.ssh/id_rsa`  -- check the content of the private key  \n",
    "4- `$ cat ~/.ssh/id_rsa.pub`  -- check the content of the public key  \n",
    "5- `$ ssh-copy-id -i id_rsa.pub <username>@<remoteip>` -- copy the public key to the remote server  \n",
    "6- `remotessh$ cat ~/.ssh/authorized_keys` -- examine the contents of the remote authorized keys file and verify it now has the content of the public key we just created. "
   ]
  },
  {
   "cell_type": "markdown",
   "metadata": {},
   "source": []
  },
  {
   "cell_type": "markdown",
   "metadata": {},
   "source": []
  },
  {
   "cell_type": "markdown",
   "metadata": {},
   "source": [
    "### SSH in VSCODE"
   ]
  },
  {
   "cell_type": "markdown",
   "metadata": {},
   "source": [
    "**[Remote - SSH Extension](https://code.visualstudio.com/docs/remote/ssh)**"
   ]
  },
  {
   "cell_type": "markdown",
   "metadata": {},
   "source": []
  },
  {
   "cell_type": "markdown",
   "metadata": {},
   "source": []
  },
  {
   "cell_type": "markdown",
   "metadata": {},
   "source": []
  }
 ],
 "metadata": {
  "kernelspec": {
   "display_name": "Python 3 (ipykernel)",
   "language": "python",
   "name": "python3"
  },
  "language_info": {
   "codemirror_mode": {
    "name": "ipython",
    "version": 3
   },
   "file_extension": ".py",
   "mimetype": "text/x-python",
   "name": "python",
   "nbconvert_exporter": "python",
   "pygments_lexer": "ipython3",
   "version": "3.9.17"
  },
  "toc": {
   "base_numbering": 1,
   "nav_menu": {},
   "number_sections": true,
   "sideBar": true,
   "skip_h1_title": false,
   "title_cell": "Table of Contents",
   "title_sidebar": "Linux for Data Engineers",
   "toc_cell": false,
   "toc_position": {
    "height": "775px",
    "left": "30px",
    "top": "67.125px",
    "width": "418.391px"
   },
   "toc_section_display": true,
   "toc_window_display": true
  }
 },
 "nbformat": 4,
 "nbformat_minor": 4
}
