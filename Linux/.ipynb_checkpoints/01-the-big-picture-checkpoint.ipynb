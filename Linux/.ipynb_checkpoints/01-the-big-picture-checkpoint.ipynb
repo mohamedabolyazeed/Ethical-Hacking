{
 "cells": [
  {
   "cell_type": "markdown",
   "metadata": {},
   "source": [
   ]
  },
  {
   "cell_type": "code",
   "execution_count": null,
   "metadata": {
    "vscode": {
     "languageId": "plaintext"
    }
   },
   "outputs": [],
   "source": [
    "- 1950's computer evolution  \n",
    "- 1964 MIT, GE and Bell Labs developed MULTICS (Multiplexed Information Computing Service)  \n",
    "- Unics was developed at MIT (Bell Labs and GE) in the mid 60s and was published in 1970 \n",
    "- First written in Assembly language then was rewritten in C (Dennis Ritchie) in 1973  \n",
    "- In 1974 AT&T licensed UNIX for educational purposes  \n",
    "- In 1982 AT&T started selling UNIX (v7.0) and it was no longer free  \n",
    "- In 1983 Richard Stallman announced the GNU project  \n",
    "- In 1985 Stallman founded the Free Software Foundation  \n",
    "- In 1987 Andrew Tanenbaum developed MINIX based on UNIX 7 microkernel  \n",
    "- in 1991 Linus Torvalds released Linux Kernel as free software under GNU GPL  \n",
    "- GNU and Free Software Foundation added other free tools to the kernel   \n",
    "- The earliest distributions were Yggdrasil and Slackware  "
   ]
  },
  {
   "cell_type": "markdown",
   "metadata": {},
   "source": [
    "**[Linux Wikipedia](https://en.wikipedia.org/wiki/Linux)**"
   ]
  },
  {
   "cell_type": "markdown",
   "metadata": {},
   "source": [
    "linux is a family of open source Unix-like operating systems based on the Linux kernel, an operating system kernel first released on September 17, 1991, by Linus Torvalds. Linux is typically packaged in a Linux distribution."
   ]
  },
  {
   "cell_type": "code",
   "execution_count": null,
   "metadata": {
    "vscode": {
     "languageId": "plaintext"
    }
   },
   "outputs": [],
   "source": []
  },
  {
   "cell_type": "markdown",
   "metadata": {},
   "source": [
   ]
  },
  {
   "cell_type": "markdown",
   "metadata": {},
   "source": [
    "- [Linux Distros](https://en.wikipedia.org/wiki/Linux_distribution)"
   ]
  },
  {
   "cell_type": "markdown",
   "metadata": {},
   "source": [
    "# Introduction"
   ]
  },
  {
   "cell_type": "markdown",
   "metadata": {},
   "source": [
    "## Installing Linux"
   ]
  },
  {
   "cell_type": "markdown",
   "metadata": {},
   "source": [
    "**[Redhat Enterprise](https://developers.redhat.com/products/rhel/overview)**"
   ]
  },
  {
   "cell_type": "markdown",
   "metadata": {},
   "source": [
    "**[CentOS Linux](https://www.centos.org/download/)**"
   ]
  },
  {
   "cell_type": "markdown",
   "metadata": {},
   "source": [
    "**[Ubuntu](https://ubuntu.com/)**"
   ]
  },
  {
   "cell_type": "markdown",
   "metadata": {},
   "source": [
    "`echo`    - display a line of text  \n",
    "`whoami`  - print effective userid  \n",
    "`ls`      - list directory contents  \n",
    "`cd`      - change the working directory  \n",
    "`pwd`     - print name of current/working directory  \n",
    "`mkdir`   - make directories  \n",
    "`touch`   - change file timestamps  \n",
    "`ip a`    - show / manipulate routing, devices, policy routing and tunnels  \n",
    "`cat`     - concatenate files and print on the standard output  \n",
    "`history` - GNU History Library  "
   ]
  },
  {
   "cell_type": "markdown",
   "metadata": {},
   "source": [
    "`man`     - an interface to the on-line reference manuals"
   ]
  },
  {
   "cell_type": "markdown",
   "metadata": {},
   "source": [
    "## The Bourne Shell"
   ]
  },
  {
   "cell_type": "markdown",
   "metadata": {},
   "source": [
    "**Shell VS Terminal**"
   ]
  },
  {
   "cell_type": "markdown",
   "metadata": {},
   "source": [
    "`/bin/sh` - Bourne Shell  \n",
    "`/bin/bash` - Bourne Again Shell  "
   ]
  },
  {
   "cell_type": "markdown",
   "metadata": {},
   "source": [
    "- A shell is a command-line interpreter and typical operations performed by shell scripts include file manipulation, program execution, and printing text.  \n",
    "- A terminal is a program that opens a window and lets you interact with the shell.  \n",
    "- A prompt is a special character that indicates you are ready to type a command. `name@host: path $`  "
   ]
  },
  {
   "cell_type": "markdown",
   "metadata": {},
   "source": [
    "## Standard Streams"
   ]
  },
  {
   "cell_type": "markdown",
   "metadata": {},
   "source": [
    "- Unix processes use I/O streams to andd write data  \n",
    "- Input streams sources are like keyboards, terminal, device, files, output stream from other process, etc.  \n",
    "- Unix processes have three standard streams:  \n",
    "    * `STDIN (0)` - Standard Input (Keyboard, File, etc.)  \n",
    "    * `STDOUT (1)` - Standard Output  (Terminal, File, etc.)\n",
    "    * `STDERR (2)` - Standard Error (Terminal, File, etc.)\n",
    "- Example `cat`\n"
   ]
  },
  {
   "cell_type": "markdown",
   "metadata": {},
   "source": [
    "- CTRL-D - stops the input stream and sends an EOF (End of File) character to the process  \n",
    "- CTRL-C - sends an INT (Interrupt) signal to the process (i.e. kills the process)  "
   ]
  },
  {
   "cell_type": "markdown",
   "metadata": {},
   "source": [
    "## File Management"
   ]
  },
  {
   "cell_type": "markdown",
   "metadata": {},
   "source": [
    "**[Filesystem Hierarchy Standard](https://refspecs.linuxfoundation.org/FHS_3.0/fhs/index.html)**"
   ]
  },
  {
   "cell_type": "markdown",
   "metadata": {},
   "source": [
    "`/`         - Root  \n",
    "`/bin`      - Essential user command binaries (for use by all users)  \n",
    "`/boot`     - Static files of the boot loader  \n",
    "`/dev`      - Device files  \n",
    "`/etc`      - Host-specific system configuration  \n",
    "`/home`     - User home directories (optional)  \n",
    "`/lib`      - Essential shared libraries and kernel modules  \n",
    "`/media`    - Mount point for removable media  \n",
    "`/mnt`      - Mount point for mounting a filesystem temporarily  \n",
    "`/opt`      - Add-on application software packages  \n",
    "`/proc`     - Virtual filesystem providing process and kernel information as files  \n",
    "`/root`     - Home directory for the root user (optional)  \n",
    "`/run`      - Data relevant to running processes  \n",
    "`/sbin`     - Essential system binaries  \n",
    "`/srv`      - Data for services provided by this system  \n",
    "`/tmp`      - Temporary files  \n",
    "`/usr`      - Secondary hierarchy  \n",
    "'/usr/local' - For use by the system administrator when installing software locally. It needs to be safe from being overwritten when the system software is updated. It may be used for programs and data that are shareable amongst a group of hosts, but not found in /usr.\n",
    "'/sys'       - Contains information about devices, drivers, and some kernel features.  \n",
    "`/var`      - Variable data like logs, mail and more  \n"
   ]
  },
  {
   "cell_type": "markdown",
   "metadata": {},
   "source": [
    "`man hier` - Filesystem Hierarchy Standard"
   ]
  },
  {
   "cell_type": "markdown",
   "metadata": {},
   "source": [
    "## Navigating the Filesystem\n"
   ]
  },
  {
   "cell_type": "markdown",
   "metadata": {},
   "source": [
    "`ls` - list directory contents  \n",
    "`tree` - list contents of directories in a tree-like format  \n",
    "`cd` - change the working directory  \n",
    "`mkdir` - make directories  \n",
    "`rmdir` - remove empty directories  \n"
   ]
  },
  {
   "cell_type": "markdown",
   "metadata": {},
   "source": [
    "**Shell Globbing (Wildcards)**   \n",
    "`*`    - matches any characters  \n",
    "`?`    - matches any single character  \n",
    "`echo *` - display a list of files in the current directory  \n",
    "`echo *.txt` - display a list of files in the current directory with the .txt extension  \n",
    "`echo b?at` - display a list of files in the current directory that start with b and end with at  \n"
   ]
  },
  {
   "cell_type": "markdown",
   "metadata": {},
   "source": [
    "## File Management"
   ]
  },
  {
   "cell_type": "markdown",
   "metadata": {},
   "source": [
    "**`grep`** - print lines matching a pattern  \n",
    "`grep root /etc/*` - search for the word root in all files in the /etc directory  \n",
    "`grep -v root /etc/*` - search for the word root in all files in the /etc directory and exclude the word root  \n",
    "`grep -i root /etc/*` - search for the word root in all files in the /etc directory and ignore case   \n",
    "-- `grep` with regular expressions  \n",
    "**`less`** - to page through a file (an alternative to `more`)  \n",
    "-- use with `/word` to search for a word in the file  \n",
    "-- use with `?word` to search backwards for a word in the file  \n",
    "-- use with `n` to go to the next occurrence of the word  \n",
    "-- use with `N` to go to the previous occurrence of the word  \n",
    "-- use with `q` to quit the file  \n",
    "**`diff`** - compare files line by line  \n",
    "`diff file1 file2` - compare file1 and file2    \n",
    "**`file`** - determine file type  \n",
    "`file file1` - determine the type of file1  \n",
    "**`find`** - search for files in a directory hierarchy  \n",
    "`find /etc -name passwd` - search for the file passwd in the /etc directory  \n",
    "**`locate`** - find files by name  \n",
    "`locate passwd` - search for the file passwd in the database  \n",
    "IS NOT AVAILABLE FOR ALL DISTROS BY DEFAULT   \n",
    "**`head`** - output the first part of files  \n",
    "`head /usr/share/dict/words` - display the first 10 lines of the file /usr/share/dict/words  \n",
    "`head -n 20 /usr/share/dict/words` - display the first 20 lines of the file /usr/share/dict/words  \n",
    "\n",
    "**`tail`** - output the last part of files  \n",
    "`tail /usr/share/dict/words` - display the last 10 lines of the file /usr/share/dict/words  \n",
    "`tail -n 20 /usr/share/dict/words` - display the last 20 lines of the file /usr/share/dict/words  "
   ]
  },
  {
   "cell_type": "markdown",
   "metadata": {},
   "source": [
    "**`tar`** - archive utility\n",
    "\n",
    "**`mount`** - mount a filesystem  \n",
    "**`umount`** - unmount file systems  "
   ]
  },
  {
   "cell_type": "markdown",
   "metadata": {},
   "source": [
    "**Dot Files**"
   ]
  },
  {
   "cell_type": "markdown",
   "metadata": {},
   "source": [
    "Dot files are hidden files that are used to store configuration settings for various programs.  \n",
    "`ls -a` - list all files including hidden files  \n"
   ]
  },
  {
   "cell_type": "markdown",
   "metadata": {},
   "source": [
    "**Moving Files**  \n",
    "**`mv`** - move (rename) files  \n",
    "`mv file1 file2` - rename file1 to file2  \n",
    "\n",
    "**Copying Files**  \n",
    "**`cp`** - copy files and directories\n",
    "`cp file1 file2` - copy file1 to file2\n",
    "\n",
    "**Removing Files** \n",
    "**`rm`** - remove files or directories  \n",
    "`rm file1` - remove file1\n",
    "`rm -r dir1` - remove directory dir1 and all its contents   "
   ]
  },
  {
   "cell_type": "markdown",
   "metadata": {},
   "source": [
    "## Advanced File Management Tools"
   ]
  },
  {
   "cell_type": "markdown",
   "metadata": {},
   "source": [
    "### Understanding Hard and Symbolic Links"
   ]
  },
  {
   "cell_type": "markdown",
   "metadata": {},
   "source": [
    "A link is a pointer to a file or directory.  \n",
    "A hard link is a pointer to the inode of a file.  \n",
    "A symbolic link is a pointer to the name of a file or directory.  "
   ]
  },
  {
   "cell_type": "markdown",
   "metadata": {},
   "source": [
    "`ls -il` - display the inode number of a file  "
   ]
  },
  {
   "cell_type": "markdown",
   "metadata": {},
   "source": [
    "`echo \"Test lines\" >> file1` - create a file called file1  \n",
    "`ls -il` - display the inode number of file1  \n",
    "`ln file1 file2` - create a hard link called file2 that points to file1  \n",
    "`ls -il` - display the inode number of file1 and file2  \n",
    "`ln -s file1 file3` - create a symbolic link called file3 that points to file1  \n",
    "`ls -il` - display the inode number of file1, file2, and file3\n"
   ]
  }
 ],
 "metadata": {
  "kernelspec": {
   "display_name": "Python 3",
   "language": "python",
   "name": "python3"
  },
  "language_info": {
   "codemirror_mode": {
    "name": "ipython",
    "version": 3
   },
   "file_extension": ".py",
   "mimetype": "text/x-python",
   "name": "python",
   "nbconvert_exporter": "python",
   "pygments_lexer": "ipython3",
   "version": "3.7.3"
  }
 },
 "nbformat": 4,
 "nbformat_minor": 2
}
