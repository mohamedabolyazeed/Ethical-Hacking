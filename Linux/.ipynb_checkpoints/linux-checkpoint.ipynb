{
 "cells": [
  {
   "cell_type": "markdown",
   "metadata": {},
   "source": [
    "# Introduction"
   ]
  },
  {
   "cell_type": "code",
   "execution_count": null,
   "metadata": {},
   "outputs": [],
   "source": []
  },
  {
   "cell_type": "code",
   "execution_count": null,
   "metadata": {
    "vscode": {
     "languageId": "plaintext"
    }
   },
   "outputs": [],
   "source": [
    "- 1950's computer evolution  \n",
    "- 1964 MIT, GE and Bell Labs developed MULTICS (Multiplexed Information Computing Service)  \n",
    "- Unics was developed at MIT (Bell Labs and GE) in the mid 60s and was published in 1970 \n",
    "- First written in Assembly language then was rewritten in C (Dennis Ritchie) in 1973  \n",
    "- In 1974 AT&T licensed UNIX for educational purposes  \n",
    "- In 1982 AT&T started selling UNIX (v7.0) and it was no longer free  \n",
    "- In 1983 Richard Stallman announced the GNU project  \n",
    "- In 1985 Stallman founded the Free Software Foundation  \n",
    "- In 1987 Andrew Tanenbaum developed MINIX based on UNIX 7 microkernel  \n",
    "- in 1991 Linus Torvalds released Linux Kernel as free software under GNU GPL  \n",
    "- GNU and Free Software Foundation added other free tools to the kernel   \n",
    "- The earliest distributions were Yggdrasil and Slackware  "
   ]
  },
  {
   "cell_type": "markdown",
   "metadata": {},
   "source": [
    "linux is a family of open source Unix-like operating systems based on the Linux kernel, an operating system kernel first released on September 17, 1991, by Linus Torvalds. Linux is typically packaged in a Linux distribution. **[Linux Wikipedia](https://en.wikipedia.org/wiki/Linux)**"
   ]
  },
  {
   "cell_type": "markdown",
   "metadata": {},
   "source": [
    "**[Linux Distros](https://en.wikipedia.org/wiki/Linux_distribution)**"
   ]
  },
  {
   "cell_type": "markdown",
   "metadata": {},
   "source": [
    "**[The Filesystem Hierarchy Standard](https://refspecs.linuxfoundation.org/FHS_3.0/fhs-3.0.pdf)**"
   ]
  },
  {
   "cell_type": "markdown",
   "metadata": {},
   "source": [
    "DIRECTORY  PURPOSE  \n",
    "`/`        Primary directory of the entire filesystem hierarchy  \n",
    "`/bin`     Essential executable programs that must be available in single user mode  \n",
    "`/boot`    Files needed to boot the system, such as the kernel, initrd or initramfs images, and boot configuration files and bootloader programs  \n",
    "`/dev`     Device Nodes, used to interact with hardware and software devices  \n",
    "`/etc`     System-wide configuration files  \n",
    "`/home`    User home directories, including personal settings, files, etc.  \n",
    "`/lib`     Libraries required by executable binaries in /bin and /sbin  \n",
    "`/lib64`   64-bit libraries required by executable binaries in /bin and /sbin, for systems which can run both 32-bit and 64-bit programs  \n",
    "`/media`   Mount points for removable media such as CDs, DVDs, USB sticks, etc.  \n",
    "`/mnt`     Temporarily mounted filesystems  \n",
    "`/opt`     Optional application software packages  \n",
    "`/proc`    Virtual pseudo-filesystem giving information about the system and processes running on it. Can be used to alter system parameters.  \n",
    "`/run`     Run-time variable data, containing information describing the system since it was booted. Replaces the older /var/run  \n",
    "`/sys`     Virtual pseudo-filesystem giving information about the system and processes running on it. Can be used to alter system parameters. Similar to a device tree and is part of the Unified Device Model.  \n",
    "`/root`    Home directory for the root user  \n",
    "`/sbin`    Essential system binaries  \n",
    "`/srv`     Site-specific data served up by the system. Seldom used.  \n",
    "`/tmp`     Temporary files; on many distributions lost across a reboot and may be a ramdisk in memory.  \n",
    "`/usr`     Multi-user applications, utilities and data; theoretically read-only.  \n",
    "`/var`     Variable data that changes during system operation"
   ]
  },
  {
   "cell_type": "markdown",
   "metadata": {},
   "source": []
  },
  {
   "cell_type": "markdown",
   "metadata": {},
   "source": []
  },
  {
   "cell_type": "markdown",
   "metadata": {},
   "source": []
  },
  {
   "cell_type": "markdown",
   "metadata": {},
   "source": []
  },
  {
   "cell_type": "markdown",
   "metadata": {},
   "source": []
  },
  {
   "cell_type": "markdown",
   "metadata": {},
   "source": []
  }
 ],
 "metadata": {
  "kernelspec": {
   "display_name": "Python 3 (ipykernel)",
   "language": "python",
   "name": "python3"
  },
  "language_info": {
   "codemirror_mode": {
    "name": "ipython",
    "version": 3
   },
   "file_extension": ".py",
   "mimetype": "text/x-python",
   "name": "python",
   "nbconvert_exporter": "python",
   "pygments_lexer": "ipython3",
   "version": "3.9.13"
  }
 },
 "nbformat": 4,
 "nbformat_minor": 4
}
